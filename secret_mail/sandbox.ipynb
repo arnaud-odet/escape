{
 "cells": [
  {
   "cell_type": "code",
   "execution_count": 19,
   "metadata": {},
   "outputs": [],
   "source": [
    "import numpy as np\n",
    "import pandas as pd\n",
    "\n",
    "# Import smtplib for the actual sending function\n",
    "import smtplib\n",
    "\n",
    "# Import the email modules we'll need\n",
    "from email.message import EmailMessage\n",
    "\n",
    "# Import credentials \n",
    "from credentials import pw\n",
    "from coordinates import coords\n",
    "\n",
    "\n",
    "%reload_ext autoreload\n",
    "%autoreload 2"
   ]
  },
  {
   "cell_type": "markdown",
   "metadata": {},
   "source": [
    "# Draw function"
   ]
  },
  {
   "cell_type": "code",
   "execution_count": 20,
   "metadata": {},
   "outputs": [
    {
     "data": {
      "text/html": [
       "<div>\n",
       "<style scoped>\n",
       "    .dataframe tbody tr th:only-of-type {\n",
       "        vertical-align: middle;\n",
       "    }\n",
       "\n",
       "    .dataframe tbody tr th {\n",
       "        vertical-align: top;\n",
       "    }\n",
       "\n",
       "    .dataframe thead th {\n",
       "        text-align: right;\n",
       "    }\n",
       "</style>\n",
       "<table border=\"1\" class=\"dataframe\">\n",
       "  <thead>\n",
       "    <tr style=\"text-align: right;\">\n",
       "      <th></th>\n",
       "      <th>name</th>\n",
       "      <th>group</th>\n",
       "      <th>single</th>\n",
       "      <th>mail</th>\n",
       "    </tr>\n",
       "  </thead>\n",
       "  <tbody>\n",
       "    <tr>\n",
       "      <th>0</th>\n",
       "      <td>Arnaud</td>\n",
       "      <td>O</td>\n",
       "      <td>True</td>\n",
       "      <td>arnaud.odet@gmail.com</td>\n",
       "    </tr>\n",
       "    <tr>\n",
       "      <th>1</th>\n",
       "      <td>Marie</td>\n",
       "      <td>O</td>\n",
       "      <td>False</td>\n",
       "      <td>jean.poulpuche@gmail.com</td>\n",
       "    </tr>\n",
       "    <tr>\n",
       "      <th>2</th>\n",
       "      <td>Stéphane</td>\n",
       "      <td>O</td>\n",
       "      <td>False</td>\n",
       "      <td>jean.poulpuche@gmail.com</td>\n",
       "    </tr>\n",
       "    <tr>\n",
       "      <th>3</th>\n",
       "      <td>Emeth</td>\n",
       "      <td>O</td>\n",
       "      <td>False</td>\n",
       "      <td>jean.poulpuche@gmail.com</td>\n",
       "    </tr>\n",
       "    <tr>\n",
       "      <th>4</th>\n",
       "      <td>Lucas</td>\n",
       "      <td>O</td>\n",
       "      <td>False</td>\n",
       "      <td>jean.poulpuche@gmail.com</td>\n",
       "    </tr>\n",
       "    <tr>\n",
       "      <th>5</th>\n",
       "      <td>Elodie</td>\n",
       "      <td>S</td>\n",
       "      <td>False</td>\n",
       "      <td>jean.poulpuche@gmail.com</td>\n",
       "    </tr>\n",
       "    <tr>\n",
       "      <th>6</th>\n",
       "      <td>Mohida</td>\n",
       "      <td>S</td>\n",
       "      <td>False</td>\n",
       "      <td>jean.poulpuche@gmail.com</td>\n",
       "    </tr>\n",
       "    <tr>\n",
       "      <th>7</th>\n",
       "      <td>Johan</td>\n",
       "      <td>S</td>\n",
       "      <td>False</td>\n",
       "      <td>jean.poulpuche@gmail.com</td>\n",
       "    </tr>\n",
       "    <tr>\n",
       "      <th>8</th>\n",
       "      <td>Loïse</td>\n",
       "      <td>S</td>\n",
       "      <td>False</td>\n",
       "      <td>jean.poulpuche@gmail.com</td>\n",
       "    </tr>\n",
       "    <tr>\n",
       "      <th>9</th>\n",
       "      <td>Méline</td>\n",
       "      <td>S</td>\n",
       "      <td>False</td>\n",
       "      <td>jean.poulpuche@gmail.com</td>\n",
       "    </tr>\n",
       "    <tr>\n",
       "      <th>10</th>\n",
       "      <td>Antoine</td>\n",
       "      <td>S</td>\n",
       "      <td>False</td>\n",
       "      <td>jean.poulpuche@gmail.com</td>\n",
       "    </tr>\n",
       "  </tbody>\n",
       "</table>\n",
       "</div>"
      ],
      "text/plain": [
       "        name group  single                      mail\n",
       "0     Arnaud     O    True     arnaud.odet@gmail.com\n",
       "1      Marie     O   False  jean.poulpuche@gmail.com\n",
       "2   Stéphane     O   False  jean.poulpuche@gmail.com\n",
       "3      Emeth     O   False  jean.poulpuche@gmail.com\n",
       "4      Lucas     O   False  jean.poulpuche@gmail.com\n",
       "5     Elodie     S   False  jean.poulpuche@gmail.com\n",
       "6     Mohida     S   False  jean.poulpuche@gmail.com\n",
       "7      Johan     S   False  jean.poulpuche@gmail.com\n",
       "8      Loïse     S   False  jean.poulpuche@gmail.com\n",
       "9     Méline     S   False  jean.poulpuche@gmail.com\n",
       "10   Antoine     S   False  jean.poulpuche@gmail.com"
      ]
     },
     "execution_count": 20,
     "metadata": {},
     "output_type": "execute_result"
    }
   ],
   "source": [
    "df = pd.DataFrame(coords)\n",
    "df"
   ]
  },
  {
   "cell_type": "code",
   "execution_count": 21,
   "metadata": {},
   "outputs": [
    {
     "data": {
      "text/plain": [
       "[['Arnaud', 'Marie', 'Stéphane', 'Emeth', 'Lucas'],\n",
       " ['Elodie', 'Mohida', 'Johan', 'Loïse', 'Méline', 'Antoine']]"
      ]
     },
     "execution_count": 21,
     "metadata": {},
     "output_type": "execute_result"
    }
   ],
   "source": [
    "lists = []\n",
    "\n",
    "for group in df['group'].unique():\n",
    "    lists.append(df[df['group'] == group]['name'].tolist())\n",
    "\n",
    "lists"
   ]
  },
  {
   "cell_type": "markdown",
   "metadata": {},
   "source": [
    "# Mail function"
   ]
  },
  {
   "cell_type": "code",
   "execution_count": 14,
   "metadata": {},
   "outputs": [],
   "source": [
    "def send_mail(sender_email:str, sender_credential:str, receiver_email:str, subject:str, body:str):\n",
    "    # Create the email\n",
    "    msg = EmailMessage()\n",
    "    msg.set_content(body)\n",
    "    msg['Subject'] = subject\n",
    "    msg['From'] = sender_email\n",
    "    msg['To'] = receiver_email\n",
    "\n",
    "    # Gmail SMTP server details\n",
    "    smtp_server = \"smtp.gmail.com\"\n",
    "    smtp_port = 587\n",
    "    smtp_user = sender_email\n",
    "    smtp_password = sender_credential \n",
    "\n",
    "    try:\n",
    "        # Connect to Gmail's SMTP server\n",
    "        server = smtplib.SMTP(smtp_server, smtp_port)\n",
    "        server.starttls()  # Upgrade the connection to a secure encrypted SSL/TLS connection\n",
    "        server.login(smtp_user, smtp_password)\n",
    "\n",
    "        # Send the email\n",
    "        server.send_message(msg)\n",
    "        print(f\"Email sent successfully to {receiver_email}!\")\n",
    "\n",
    "    except Exception as e:\n",
    "        print(f\"Failed to send email. Error: {e}\")\n",
    "\n",
    "    finally:\n",
    "        # Close the connection\n",
    "        server.quit()\n"
   ]
  },
  {
   "cell_type": "code",
   "execution_count": 15,
   "metadata": {},
   "outputs": [
    {
     "name": "stdout",
     "output_type": "stream",
     "text": [
      "Email sent successfully to jean.poulpuche@gmail.com!\n"
     ]
    }
   ],
   "source": [
    "# Email details\n",
    "sender_email = 'arnaud.odet.misc@gmail.com'  # Replace with your Gmail address\n",
    "receiver_email = 'jean.poulpuche@gmail.com'  # Replace with the recipient's email address\n",
    "subject = \"Test\"\n",
    "body = \"One,two,one,two,this is a test\"\n",
    "\n",
    "send_mail(sender_email=sender_email, sender_credential=pw, receiver_email=receiver_email, subject=subject, body=body)\n"
   ]
  }
 ],
 "metadata": {
  "kernelspec": {
   "display_name": "aro_env",
   "language": "python",
   "name": "python3"
  },
  "language_info": {
   "codemirror_mode": {
    "name": "ipython",
    "version": 3
   },
   "file_extension": ".py",
   "mimetype": "text/x-python",
   "name": "python",
   "nbconvert_exporter": "python",
   "pygments_lexer": "ipython3",
   "version": "3.10.6"
  }
 },
 "nbformat": 4,
 "nbformat_minor": 2
}
