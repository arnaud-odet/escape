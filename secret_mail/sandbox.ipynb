{
 "cells": [
  {
   "cell_type": "code",
   "execution_count": null,
   "metadata": {},
   "outputs": [],
   "source": [
    "# Import smtplib for the actual sending function\n",
    "import smtplib\n",
    "\n",
    "# Import the email modules we'll need\n",
    "from email.message import EmailMessage\n",
    "\n",
    "# Import credentials \n",
    "from credentials import pw\n",
    "\n",
    "\n",
    "%reload_ext autoreload\n",
    "%autoreload 2"
   ]
  },
  {
   "cell_type": "code",
   "execution_count": null,
   "metadata": {},
   "outputs": [],
   "source": [
    "\n",
    "# Create a text/plain message\n",
    "msg = EmailMessage()\n",
    "msg.set_content(\"Hello World\")\n",
    "\n",
    "me = 'arnaud.odet.misc@gmail.com'\n",
    "you = 'arnaud.odet@gmail.com'\n",
    "msg['Subject'] = 'Test'\n",
    "msg['From'] = me\n",
    "msg['To'] = you\n",
    "\n",
    "# Send the message.\n",
    "s = smtplib.SMTP('smtp.gmail.com')  # Replace with your SMTP server address\n",
    "s.starttls()  # If your server requires TLS\n",
    "s.login(me, pw)  # Replace with your email password\n",
    "s.send_message(msg)\n",
    "s.quit()"
   ]
  }
 ],
 "metadata": {
  "kernelspec": {
   "display_name": "aro_env",
   "language": "python",
   "name": "python3"
  },
  "language_info": {
   "codemirror_mode": {
    "name": "ipython",
    "version": 3
   },
   "file_extension": ".py",
   "mimetype": "text/x-python",
   "name": "python",
   "nbconvert_exporter": "python",
   "pygments_lexer": "ipython3",
   "version": "3.10.6"
  }
 },
 "nbformat": 4,
 "nbformat_minor": 2
}
