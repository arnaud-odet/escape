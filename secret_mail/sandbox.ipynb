{
 "cells": [
  {
   "cell_type": "code",
   "execution_count": 38,
   "metadata": {},
   "outputs": [],
   "source": [
    "import numpy as np\n",
    "import pandas as pd\n",
    "import random\n",
    "\n",
    "# Import smtplib for the actual sending function\n",
    "import smtplib\n",
    "\n",
    "# Import the email modules we'll need\n",
    "from email.message import EmailMessage\n",
    "\n",
    "# Import credentials \n",
    "from credentials import pw\n",
    "from coordinates import coords\n",
    "\n",
    "\n",
    "%reload_ext autoreload\n",
    "%autoreload 2"
   ]
  },
  {
   "cell_type": "markdown",
   "metadata": {},
   "source": [
    "# Mail function"
   ]
  },
  {
   "cell_type": "code",
   "execution_count": 28,
   "metadata": {},
   "outputs": [],
   "source": [
    "def send_mail(sender_email:str, sender_credential:str, receiver_email:str, subject:str, body:str):\n",
    "    # Create the email\n",
    "    msg = EmailMessage()\n",
    "    msg.set_content(body)\n",
    "    msg['Subject'] = subject\n",
    "    msg['From'] = sender_email\n",
    "    msg['To'] = receiver_email\n",
    "\n",
    "    # Gmail SMTP server details\n",
    "    smtp_server = \"smtp.gmail.com\"\n",
    "    smtp_port = 587\n",
    "    smtp_user = sender_email\n",
    "    smtp_password = sender_credential \n",
    "\n",
    "    try:\n",
    "        # Connect to Gmail's SMTP server\n",
    "        server = smtplib.SMTP(smtp_server, smtp_port)\n",
    "        server.starttls()  # Upgrade the connection to a secure encrypted SSL/TLS connection\n",
    "        server.login(smtp_user, smtp_password)\n",
    "\n",
    "        # Send the email\n",
    "        server.send_message(msg)\n",
    "        print(f\"Email sent successfully to {receiver_email}!\")\n",
    "\n",
    "    except Exception as e:\n",
    "        print(f\"Failed to send email. Error: {e}\")\n",
    "\n",
    "    finally:\n",
    "        # Close the connection\n",
    "        server.quit()\n"
   ]
  },
  {
   "cell_type": "code",
   "execution_count": 30,
   "metadata": {},
   "outputs": [],
   "source": [
    "# Email details\n",
    "sender_email = 'arnaud.odet.misc@gmail.com'  \n",
    "receiver_email_test = 'jean.poulpuche@gmail.com' \n",
    "subject_test = \"Test\"\n",
    "body_test = \"One,two,one,two,this is a test\"\n",
    "test_send = False \n",
    "if test_send:\n",
    "    send_mail(sender_email=sender_email, sender_credential=pw, receiver_email=receiver_email_test, subject=subject_test, body=body_test)\n"
   ]
  },
  {
   "cell_type": "markdown",
   "metadata": {},
   "source": [
    "# Draw function"
   ]
  },
  {
   "cell_type": "code",
   "execution_count": 26,
   "metadata": {},
   "outputs": [],
   "source": [
    "df = pd.DataFrame(coords)"
   ]
  },
  {
   "cell_type": "code",
   "execution_count": 27,
   "metadata": {},
   "outputs": [
    {
     "data": {
      "text/plain": [
       "[['Arnaud', 'Marie', 'Stéphane', 'Emeth', 'Lucas', 'Arnaud'],\n",
       " ['Elodie', 'Mohida', 'Johan', 'Loïse', 'Méline', 'Antoine']]"
      ]
     },
     "execution_count": 27,
     "metadata": {},
     "output_type": "execute_result"
    }
   ],
   "source": [
    "lists = []\n",
    "\n",
    "for group in df['group'].unique():\n",
    "    tmp_df = df[df['group'] == group]\n",
    "    tmp_list = tmp_df['name'].tolist()\n",
    "    for single in tmp_df[tmp_df['single'] == True]['name']:\n",
    "        tmp_list.append(single)\n",
    "    lists.append(tmp_list)"
   ]
  },
  {
   "cell_type": "code",
   "execution_count": 36,
   "metadata": {},
   "outputs": [
    {
     "name": "stdout",
     "output_type": "stream",
     "text": [
      "error=False\n"
     ]
    }
   ],
   "source": [
    "list_size = len(lists[0])\n",
    "error = False\n",
    "for item in lists :\n",
    "    if not len(item) == list_size :\n",
    "        error = True\n",
    "print(f\"{error=}\")"
   ]
  },
  {
   "cell_type": "code",
   "execution_count": 49,
   "metadata": {},
   "outputs": [],
   "source": [
    "publi_post = False \n",
    "\n",
    "if not error and publi_post :\n",
    "    for i, item in enumerate(lists):\n",
    "        from_list = item.copy()\n",
    "        random.shuffle(from_list)\n",
    "        to_lists = lists.copy()\n",
    "        to_lists.pop(i)\n",
    "        for to_list in to_lists:\n",
    "            random.shuffle(to_list)\n",
    "            for i in range(len(from_list)):\n",
    "                body = f'VERSION TEST ! Hello {from_list[i]}. Tu dois faire un cadeau à {to_list[i]} ! Bonne journée et plein de bisous.'\n",
    "                subject = 'Secret SanTEST'                \n",
    "                #body = f'Ho ho ho ! Bien le bonjour du Pôle Nord, {from_list[i]}. Tu dois faire un cadeau à {to_list[i]} ! Joyeux Noël.'\n",
    "                #subject = 'Secret Santa'\n",
    "                to_mail = df[df['name'] == from_list[i]]['mail'].iloc[0]\n",
    "                send_mail(sender_email=sender_email, sender_credential=pw, receiver_email=to_mail, subject=subject, body=body)\n",
    "                "
   ]
  }
 ],
 "metadata": {
  "kernelspec": {
   "display_name": "aro_env",
   "language": "python",
   "name": "python3"
  },
  "language_info": {
   "codemirror_mode": {
    "name": "ipython",
    "version": 3
   },
   "file_extension": ".py",
   "mimetype": "text/x-python",
   "name": "python",
   "nbconvert_exporter": "python",
   "pygments_lexer": "ipython3",
   "version": "3.10.6"
  }
 },
 "nbformat": 4,
 "nbformat_minor": 2
}
